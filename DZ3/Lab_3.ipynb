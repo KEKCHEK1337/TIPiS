{
 "cells": [
  {
   "metadata": {},
   "cell_type": "markdown",
   "source": "## Импорт библиотек для анализа данных",
   "id": "10e12f00674577e9"
  },
  {
   "metadata": {},
   "cell_type": "code",
   "source": [
    "import pandas as pd\n",
    "from sklearn.model_selection import train_test_split\n",
    "from sklearn.metrics import r2_score, mean_squared_error\n",
    "import warnings\n",
    "from catboost import CatBoostRegressor, Pool, cv"
   ],
   "id": "ccf74d74a97cad69",
   "outputs": [],
   "execution_count": 2
  },
  {
   "metadata": {},
   "cell_type": "markdown",
   "source": "## Отключаем предупреждения",
   "id": "47246037a9f806e0"
  },
  {
   "metadata": {
    "ExecuteTime": {
     "end_time": "2025-10-24T20:39:10.251524Z",
     "start_time": "2025-10-24T20:39:10.225919Z"
    }
   },
   "cell_type": "code",
   "source": "warnings.filterwarnings(\"ignore\")",
   "id": "5030295557d515fa",
   "outputs": [],
   "execution_count": 3
  },
  {
   "metadata": {},
   "cell_type": "markdown",
   "source": "## Считываем данные и выводим первые 5 строк",
   "id": "117544e60ddfc222"
  },
  {
   "metadata": {
    "ExecuteTime": {
     "end_time": "2025-10-24T20:39:10.333809Z",
     "start_time": "2025-10-24T20:39:10.267037Z"
    }
   },
   "cell_type": "code",
   "source": [
    "df = pd.read_csv(\"diamonds_train.csv\")\n",
    "df.head()"
   ],
   "id": "9fe9ad3deaae41c7",
   "outputs": [
    {
     "data": {
      "text/plain": [
       "   carat        cut color clarity  depth  table  price     x     y     z\n",
       "0   0.51       Good     D     SI2   63.9   55.0   1180  5.04  5.10  3.24\n",
       "1   0.72      Ideal     E     VS2   60.8   57.0   3091  5.79  5.82  3.53\n",
       "2   0.70  Very Good     D    VVS2   62.8   60.0   4022  5.65  5.69  3.56\n",
       "3   0.36      Ideal     D     SI1   61.2   57.0    663  4.59  4.63  2.82\n",
       "4   0.54  Very Good     D     SI1   60.0   59.8   1593  5.30  5.34  3.18"
      ],
      "text/html": [
       "<div>\n",
       "<style scoped>\n",
       "    .dataframe tbody tr th:only-of-type {\n",
       "        vertical-align: middle;\n",
       "    }\n",
       "\n",
       "    .dataframe tbody tr th {\n",
       "        vertical-align: top;\n",
       "    }\n",
       "\n",
       "    .dataframe thead th {\n",
       "        text-align: right;\n",
       "    }\n",
       "</style>\n",
       "<table border=\"1\" class=\"dataframe\">\n",
       "  <thead>\n",
       "    <tr style=\"text-align: right;\">\n",
       "      <th></th>\n",
       "      <th>carat</th>\n",
       "      <th>cut</th>\n",
       "      <th>color</th>\n",
       "      <th>clarity</th>\n",
       "      <th>depth</th>\n",
       "      <th>table</th>\n",
       "      <th>price</th>\n",
       "      <th>x</th>\n",
       "      <th>y</th>\n",
       "      <th>z</th>\n",
       "    </tr>\n",
       "  </thead>\n",
       "  <tbody>\n",
       "    <tr>\n",
       "      <th>0</th>\n",
       "      <td>0.51</td>\n",
       "      <td>Good</td>\n",
       "      <td>D</td>\n",
       "      <td>SI2</td>\n",
       "      <td>63.9</td>\n",
       "      <td>55.0</td>\n",
       "      <td>1180</td>\n",
       "      <td>5.04</td>\n",
       "      <td>5.10</td>\n",
       "      <td>3.24</td>\n",
       "    </tr>\n",
       "    <tr>\n",
       "      <th>1</th>\n",
       "      <td>0.72</td>\n",
       "      <td>Ideal</td>\n",
       "      <td>E</td>\n",
       "      <td>VS2</td>\n",
       "      <td>60.8</td>\n",
       "      <td>57.0</td>\n",
       "      <td>3091</td>\n",
       "      <td>5.79</td>\n",
       "      <td>5.82</td>\n",
       "      <td>3.53</td>\n",
       "    </tr>\n",
       "    <tr>\n",
       "      <th>2</th>\n",
       "      <td>0.70</td>\n",
       "      <td>Very Good</td>\n",
       "      <td>D</td>\n",
       "      <td>VVS2</td>\n",
       "      <td>62.8</td>\n",
       "      <td>60.0</td>\n",
       "      <td>4022</td>\n",
       "      <td>5.65</td>\n",
       "      <td>5.69</td>\n",
       "      <td>3.56</td>\n",
       "    </tr>\n",
       "    <tr>\n",
       "      <th>3</th>\n",
       "      <td>0.36</td>\n",
       "      <td>Ideal</td>\n",
       "      <td>D</td>\n",
       "      <td>SI1</td>\n",
       "      <td>61.2</td>\n",
       "      <td>57.0</td>\n",
       "      <td>663</td>\n",
       "      <td>4.59</td>\n",
       "      <td>4.63</td>\n",
       "      <td>2.82</td>\n",
       "    </tr>\n",
       "    <tr>\n",
       "      <th>4</th>\n",
       "      <td>0.54</td>\n",
       "      <td>Very Good</td>\n",
       "      <td>D</td>\n",
       "      <td>SI1</td>\n",
       "      <td>60.0</td>\n",
       "      <td>59.8</td>\n",
       "      <td>1593</td>\n",
       "      <td>5.30</td>\n",
       "      <td>5.34</td>\n",
       "      <td>3.18</td>\n",
       "    </tr>\n",
       "  </tbody>\n",
       "</table>\n",
       "</div>"
      ]
     },
     "execution_count": 4,
     "metadata": {},
     "output_type": "execute_result"
    }
   ],
   "execution_count": 4
  },
  {
   "metadata": {},
   "cell_type": "markdown",
   "source": "## Выводим основную информацию о датасете",
   "id": "a8c055e9c3f8449"
  },
  {
   "metadata": {
    "ExecuteTime": {
     "end_time": "2025-10-24T20:39:12.213810Z",
     "start_time": "2025-10-24T20:39:12.176261Z"
    }
   },
   "cell_type": "code",
   "source": [
    "print(\"Информация о датасете: \")\n",
    "df.info()"
   ],
   "id": "36d78cb903c085d4",
   "outputs": [
    {
     "name": "stdout",
     "output_type": "stream",
     "text": [
      "Информация о датасете: \n",
      "<class 'pandas.core.frame.DataFrame'>\n",
      "RangeIndex: 43018 entries, 0 to 43017\n",
      "Data columns (total 10 columns):\n",
      " #   Column   Non-Null Count  Dtype  \n",
      "---  ------   --------------  -----  \n",
      " 0   carat    43018 non-null  float64\n",
      " 1   cut      43018 non-null  object \n",
      " 2   color    43018 non-null  object \n",
      " 3   clarity  43018 non-null  object \n",
      " 4   depth    43018 non-null  float64\n",
      " 5   table    43018 non-null  float64\n",
      " 6   price    43018 non-null  int64  \n",
      " 7   x        43018 non-null  float64\n",
      " 8   y        43018 non-null  float64\n",
      " 9   z        43018 non-null  float64\n",
      "dtypes: float64(6), int64(1), object(3)\n",
      "memory usage: 3.3+ MB\n"
     ]
    }
   ],
   "execution_count": 5
  },
  {
   "metadata": {},
   "cell_type": "markdown",
   "source": "## Проверем missing values",
   "id": "29d7b3204edfdfdf"
  },
  {
   "metadata": {
    "ExecuteTime": {
     "end_time": "2025-10-24T20:39:12.851627Z",
     "start_time": "2025-10-24T20:39:12.835720Z"
    }
   },
   "cell_type": "code",
   "source": [
    "print(\"Проверка на отсутствующие значения: \")\n",
    "df.isnull().sum()"
   ],
   "id": "5e138bc264872b70",
   "outputs": [
    {
     "name": "stdout",
     "output_type": "stream",
     "text": [
      "Проверка на отсутствующие значения: \n"
     ]
    },
    {
     "data": {
      "text/plain": [
       "carat      0\n",
       "cut        0\n",
       "color      0\n",
       "clarity    0\n",
       "depth      0\n",
       "table      0\n",
       "price      0\n",
       "x          0\n",
       "y          0\n",
       "z          0\n",
       "dtype: int64"
      ]
     },
     "execution_count": 6,
     "metadata": {},
     "output_type": "execute_result"
    }
   ],
   "execution_count": 6
  },
  {
   "metadata": {},
   "cell_type": "markdown",
   "source": "## Оцениваем статистические показатели",
   "id": "e2260304d945db14"
  },
  {
   "metadata": {
    "ExecuteTime": {
     "end_time": "2025-10-24T20:39:13.356609Z",
     "start_time": "2025-10-24T20:39:13.305309Z"
    }
   },
   "cell_type": "code",
   "source": [
    "print(\"Статистические показатели: \")\n",
    "df.describe()"
   ],
   "id": "5c0aadda6aacc3d3",
   "outputs": [
    {
     "name": "stdout",
     "output_type": "stream",
     "text": [
      "Статистические показатели: \n"
     ]
    },
    {
     "data": {
      "text/plain": [
       "              carat         depth         table         price             x  \\\n",
       "count  43018.000000  43018.000000  43018.000000  43018.000000  43018.000000   \n",
       "mean       0.796818     61.749672     57.456648   3929.500442      5.730426   \n",
       "std        0.471362      1.427265      2.238806   3985.321605      1.116451   \n",
       "min        0.200000     43.000000     43.000000    326.000000      3.730000   \n",
       "25%        0.400000     61.000000     56.000000    951.000000      4.720000   \n",
       "50%        0.700000     61.800000     57.000000   2401.000000      5.700000   \n",
       "75%        1.040000     62.500000     59.000000   5317.750000      6.540000   \n",
       "max        4.500000     79.000000     95.000000  18823.000000     10.230000   \n",
       "\n",
       "                  y             z  \n",
       "count  43018.000000  43018.000000  \n",
       "mean       5.734358      3.539536  \n",
       "std        1.144571      0.703502  \n",
       "min        3.710000      1.070000  \n",
       "25%        4.720000      2.910000  \n",
       "50%        5.710000      3.530000  \n",
       "75%        6.530000      4.030000  \n",
       "max       58.900000     31.800000  "
      ],
      "text/html": [
       "<div>\n",
       "<style scoped>\n",
       "    .dataframe tbody tr th:only-of-type {\n",
       "        vertical-align: middle;\n",
       "    }\n",
       "\n",
       "    .dataframe tbody tr th {\n",
       "        vertical-align: top;\n",
       "    }\n",
       "\n",
       "    .dataframe thead th {\n",
       "        text-align: right;\n",
       "    }\n",
       "</style>\n",
       "<table border=\"1\" class=\"dataframe\">\n",
       "  <thead>\n",
       "    <tr style=\"text-align: right;\">\n",
       "      <th></th>\n",
       "      <th>carat</th>\n",
       "      <th>depth</th>\n",
       "      <th>table</th>\n",
       "      <th>price</th>\n",
       "      <th>x</th>\n",
       "      <th>y</th>\n",
       "      <th>z</th>\n",
       "    </tr>\n",
       "  </thead>\n",
       "  <tbody>\n",
       "    <tr>\n",
       "      <th>count</th>\n",
       "      <td>43018.000000</td>\n",
       "      <td>43018.000000</td>\n",
       "      <td>43018.000000</td>\n",
       "      <td>43018.000000</td>\n",
       "      <td>43018.000000</td>\n",
       "      <td>43018.000000</td>\n",
       "      <td>43018.000000</td>\n",
       "    </tr>\n",
       "    <tr>\n",
       "      <th>mean</th>\n",
       "      <td>0.796818</td>\n",
       "      <td>61.749672</td>\n",
       "      <td>57.456648</td>\n",
       "      <td>3929.500442</td>\n",
       "      <td>5.730426</td>\n",
       "      <td>5.734358</td>\n",
       "      <td>3.539536</td>\n",
       "    </tr>\n",
       "    <tr>\n",
       "      <th>std</th>\n",
       "      <td>0.471362</td>\n",
       "      <td>1.427265</td>\n",
       "      <td>2.238806</td>\n",
       "      <td>3985.321605</td>\n",
       "      <td>1.116451</td>\n",
       "      <td>1.144571</td>\n",
       "      <td>0.703502</td>\n",
       "    </tr>\n",
       "    <tr>\n",
       "      <th>min</th>\n",
       "      <td>0.200000</td>\n",
       "      <td>43.000000</td>\n",
       "      <td>43.000000</td>\n",
       "      <td>326.000000</td>\n",
       "      <td>3.730000</td>\n",
       "      <td>3.710000</td>\n",
       "      <td>1.070000</td>\n",
       "    </tr>\n",
       "    <tr>\n",
       "      <th>25%</th>\n",
       "      <td>0.400000</td>\n",
       "      <td>61.000000</td>\n",
       "      <td>56.000000</td>\n",
       "      <td>951.000000</td>\n",
       "      <td>4.720000</td>\n",
       "      <td>4.720000</td>\n",
       "      <td>2.910000</td>\n",
       "    </tr>\n",
       "    <tr>\n",
       "      <th>50%</th>\n",
       "      <td>0.700000</td>\n",
       "      <td>61.800000</td>\n",
       "      <td>57.000000</td>\n",
       "      <td>2401.000000</td>\n",
       "      <td>5.700000</td>\n",
       "      <td>5.710000</td>\n",
       "      <td>3.530000</td>\n",
       "    </tr>\n",
       "    <tr>\n",
       "      <th>75%</th>\n",
       "      <td>1.040000</td>\n",
       "      <td>62.500000</td>\n",
       "      <td>59.000000</td>\n",
       "      <td>5317.750000</td>\n",
       "      <td>6.540000</td>\n",
       "      <td>6.530000</td>\n",
       "      <td>4.030000</td>\n",
       "    </tr>\n",
       "    <tr>\n",
       "      <th>max</th>\n",
       "      <td>4.500000</td>\n",
       "      <td>79.000000</td>\n",
       "      <td>95.000000</td>\n",
       "      <td>18823.000000</td>\n",
       "      <td>10.230000</td>\n",
       "      <td>58.900000</td>\n",
       "      <td>31.800000</td>\n",
       "    </tr>\n",
       "  </tbody>\n",
       "</table>\n",
       "</div>"
      ]
     },
     "execution_count": 7,
     "metadata": {},
     "output_type": "execute_result"
    }
   ],
   "execution_count": 7
  },
  {
   "metadata": {},
   "cell_type": "markdown",
   "source": "## Выделяем столбцы с признаками и столбец с целевой переменной",
   "id": "6d605e411c7fa737"
  },
  {
   "metadata": {
    "ExecuteTime": {
     "end_time": "2025-10-24T20:39:15.261391Z",
     "start_time": "2025-10-24T20:39:15.232717Z"
    }
   },
   "cell_type": "code",
   "source": [
    "x = df.drop(\"price\", axis=1)\n",
    "y = df[\"price\"]"
   ],
   "id": "873b7d6dd905b802",
   "outputs": [],
   "execution_count": 8
  },
  {
   "metadata": {},
   "cell_type": "markdown",
   "source": "## Находим категориальные признаки (необходимо для работы CatBoost)",
   "id": "782ff6be24b906c4"
  },
  {
   "metadata": {
    "ExecuteTime": {
     "end_time": "2025-10-24T20:39:18.140189Z",
     "start_time": "2025-10-24T20:39:18.124560Z"
    }
   },
   "cell_type": "code",
   "source": [
    "cat_features = x.select_dtypes(include=\"object\").columns.tolist()\n",
    "print(f\"Категориальные признаки: {cat_features}\")"
   ],
   "id": "5cd212f21bc85125",
   "outputs": [
    {
     "name": "stdout",
     "output_type": "stream",
     "text": [
      "Категориальные признаки: ['cut', 'color', 'clarity']\n"
     ]
    }
   ],
   "execution_count": 9
  },
  {
   "metadata": {},
   "cell_type": "markdown",
   "source": "## Разделяем на train и test",
   "id": "3873b808ac10250c"
  },
  {
   "metadata": {
    "ExecuteTime": {
     "end_time": "2025-10-24T20:39:19.195103Z",
     "start_time": "2025-10-24T20:39:19.163848Z"
    }
   },
   "cell_type": "code",
   "source": [
    "x_train, x_test, y_train, y_test = train_test_split(x, y, test_size=0.2,\n",
    "random_state=42, shuffle=True)"
   ],
   "id": "ec9ccbf392f3df34",
   "outputs": [],
   "execution_count": 10
  },
  {
   "metadata": {},
   "cell_type": "markdown",
   "source": "## Задаём параметры модели для дальнейшей их корректировки с помощью кросс-валидации",
   "id": "4f16028dfc3002b0"
  },
  {
   "metadata": {
    "ExecuteTime": {
     "end_time": "2025-10-24T20:39:20.507765Z",
     "start_time": "2025-10-24T20:39:20.492498Z"
    }
   },
   "cell_type": "code",
   "source": [
    "# params = {\n",
    "#     \"iterations\": 500,\n",
    "#     \"learning_rate\": 0.1,\n",
    "#     \"depth\": 5,\n",
    "#     \"loss_function\": \"RMSE\",\n",
    "#     \"eval_metric\": \"R2\",\n",
    "#     \"random_seed\": 42,\n",
    "#     \"verbose\": 0\n",
    "# }\n",
    "\n",
    "params = {\n",
    "    \"iterations\": 1000,\n",
    "    \"learning_rate\": 0.15,\n",
    "    \"depth\": 5,\n",
    "    \"loss_function\": \"RMSE\",\n",
    "    \"eval_metric\": \"R2\",\n",
    "    \"random_seed\": 42,\n",
    "    \"verbose\": 0\n",
    "}"
   ],
   "id": "82b84ea5991c39ed",
   "outputs": [],
   "execution_count": 11
  },
  {
   "metadata": {},
   "cell_type": "markdown",
   "source": "## Проводим кросс-валидацию на 5 folds",
   "id": "75cb1cc9951e231a"
  },
  {
   "metadata": {
    "ExecuteTime": {
     "end_time": "2025-10-24T20:41:56.970500Z",
     "start_time": "2025-10-24T20:39:23.003926Z"
    }
   },
   "cell_type": "code",
   "source": [
    "print(\"Кросс-валидация (5 фолдов): \")\n",
    "\n",
    "train_pool = Pool(x_train, y_train, cat_features=cat_features)\n",
    "\n",
    "cv_results = cv(\n",
    "    params=params,\n",
    "    pool=train_pool,\n",
    "    fold_count=5,\n",
    "    shuffle=True,\n",
    "    seed=42,\n",
    "    plot=True\n",
    ")"
   ],
   "id": "c130b293cf8c6de9",
   "outputs": [
    {
     "name": "stdout",
     "output_type": "stream",
     "text": [
      "Кросс-валидация (5 фолдов): \n"
     ]
    },
    {
     "data": {
      "text/plain": [
       "MetricVisualizer(layout=Layout(align_self='stretch', height='500px'))"
      ],
      "application/vnd.jupyter.widget-view+json": {
       "version_major": 2,
       "version_minor": 0,
       "model_id": "065f13e418a84a9d952e9096f2ac8c3b"
      }
     },
     "metadata": {},
     "output_type": "display_data"
    },
    {
     "name": "stdout",
     "output_type": "stream",
     "text": [
      "Training on fold [0/5]\n",
      "\n",
      "bestTest = 0.9818096646\n",
      "bestIteration = 810\n",
      "\n",
      "Training on fold [1/5]\n",
      "\n",
      "bestTest = 0.9812889579\n",
      "bestIteration = 997\n",
      "\n",
      "Training on fold [2/5]\n",
      "\n",
      "bestTest = 0.9833497507\n",
      "bestIteration = 989\n",
      "\n",
      "Training on fold [3/5]\n",
      "\n",
      "bestTest = 0.981105863\n",
      "bestIteration = 786\n",
      "\n",
      "Training on fold [4/5]\n",
      "\n",
      "bestTest = 0.9819163365\n",
      "bestIteration = 999\n",
      "\n"
     ]
    }
   ],
   "execution_count": 12
  },
  {
   "metadata": {},
   "cell_type": "markdown",
   "source": "## Находим, при каких параметрах модель выдавала лучшие показатели",
   "id": "36fc89498f63147d"
  },
  {
   "metadata": {
    "ExecuteTime": {
     "end_time": "2025-10-24T20:41:57.077425Z",
     "start_time": "2025-10-24T20:41:57.064426Z"
    }
   },
   "cell_type": "code",
   "source": [
    "best_iter_idx = cv_results[\"test-R2-mean\"].idxmax()\n",
    "best_r2 = cv_results.loc[best_iter_idx, \"test-R2-mean\"]\n",
    "best_iteration = int(cv_results.loc[best_iter_idx, \"iterations\"])"
   ],
   "id": "727f65cbdd904658",
   "outputs": [],
   "execution_count": 13
  },
  {
   "metadata": {},
   "cell_type": "markdown",
   "source": "## Выводим эти показатели",
   "id": "19f6a1d7f7c85224"
  },
  {
   "metadata": {
    "ExecuteTime": {
     "end_time": "2025-10-24T20:42:13.022239Z",
     "start_time": "2025-10-24T20:42:13.006691Z"
    }
   },
   "cell_type": "code",
   "source": [
    "print(f\"Лучшая R²: {best_r2:.4f}\")\n",
    "print(f\"Лучшая итерация: {best_iteration}\")"
   ],
   "id": "7273ab628ade8e31",
   "outputs": [
    {
     "name": "stdout",
     "output_type": "stream",
     "text": [
      "Лучшая R²: 0.9819\n",
      "Лучшая итерация: 985\n"
     ]
    }
   ],
   "execution_count": 14
  },
  {
   "metadata": {},
   "cell_type": "markdown",
   "source": "## Задаём заново параметры для модели, с учётом кросс-валидации и обучаем модель",
   "id": "3ec4bc5a8cda5c22"
  },
  {
   "metadata": {
    "ExecuteTime": {
     "end_time": "2025-10-24T20:42:43.752313Z",
     "start_time": "2025-10-24T20:42:16.566457Z"
    }
   },
   "cell_type": "code",
   "source": [
    "final_model = CatBoostRegressor(\n",
    "    iterations=best_iteration,\n",
    "    learning_rate=params[\"learning_rate\"],\n",
    "    depth=params[\"depth\"],\n",
    "    loss_function=params[\"loss_function\"],\n",
    "    eval_metric=params[\"eval_metric\"],\n",
    "    random_seed=params[\"random_seed\"],\n",
    "    verbose=100,\n",
    "    cat_features=cat_features\n",
    ")\n",
    "\n",
    "final_model.fit(x_train, y_train)"
   ],
   "id": "8d905648ac267a1d",
   "outputs": [
    {
     "name": "stdout",
     "output_type": "stream",
     "text": [
      "0:\tlearn: 0.2320487\ttotal: 25.9ms\tremaining: 25.5s\n",
      "100:\tlearn: 0.9788962\ttotal: 2.72s\tremaining: 23.8s\n",
      "200:\tlearn: 0.9819528\ttotal: 5.28s\tremaining: 20.6s\n",
      "300:\tlearn: 0.9835527\ttotal: 7.9s\tremaining: 18s\n",
      "400:\tlearn: 0.9846516\ttotal: 10.4s\tremaining: 15.2s\n",
      "500:\tlearn: 0.9855871\ttotal: 13.1s\tremaining: 12.6s\n",
      "600:\tlearn: 0.9865344\ttotal: 15.7s\tremaining: 10s\n",
      "700:\tlearn: 0.9871927\ttotal: 18.3s\tremaining: 7.41s\n",
      "800:\tlearn: 0.9877024\ttotal: 21s\tremaining: 4.82s\n",
      "900:\tlearn: 0.9881401\ttotal: 24.6s\tremaining: 2.29s\n",
      "984:\tlearn: 0.9884050\ttotal: 26.9s\tremaining: 0us\n"
     ]
    },
    {
     "data": {
      "text/plain": [
       "<catboost.core.CatBoostRegressor at 0x1cfb0d1afb0>"
      ]
     },
     "execution_count": 15,
     "metadata": {},
     "output_type": "execute_result"
    }
   ],
   "execution_count": 15
  },
  {
   "metadata": {},
   "cell_type": "markdown",
   "source": "## Делаем итоговое предсказание",
   "id": "b76d6bc6711133e4"
  },
  {
   "metadata": {
    "ExecuteTime": {
     "end_time": "2025-10-24T20:42:43.788485Z",
     "start_time": "2025-10-24T20:42:43.760804Z"
    }
   },
   "cell_type": "code",
   "source": "y_pred = final_model.predict(x_test)",
   "id": "12aa7d9724b61bdc",
   "outputs": [],
   "execution_count": 16
  },
  {
   "metadata": {},
   "cell_type": "markdown",
   "source": "## Получаем метрики для оценки",
   "id": "af4197eab61fc391"
  },
  {
   "metadata": {
    "ExecuteTime": {
     "end_time": "2025-10-24T20:42:43.833788Z",
     "start_time": "2025-10-24T20:42:43.818594Z"
    }
   },
   "cell_type": "code",
   "source": [
    "test_r2 = r2_score(y_test, y_pred)\n",
    "test_rmse = mean_squared_error(y_test, y_pred)"
   ],
   "id": "378d9e94e96ea05",
   "outputs": [],
   "execution_count": 17
  },
  {
   "metadata": {},
   "cell_type": "markdown",
   "source": "## Выводим итоговые результаты",
   "id": "b72ee19cabd2a4dd"
  },
  {
   "metadata": {
    "ExecuteTime": {
     "end_time": "2025-10-24T20:42:51.206693Z",
     "start_time": "2025-10-24T20:42:51.180504Z"
    }
   },
   "cell_type": "code",
   "source": [
    "print(f\"Итоговые результаты: \")\n",
    "print(f\"R²: {test_r2:.4f}\")\n",
    "print(f\"RMSE: {test_rmse:,.2f}\")"
   ],
   "id": "d50aea55dc46616",
   "outputs": [
    {
     "name": "stdout",
     "output_type": "stream",
     "text": [
      "Итоговые результаты: \n",
      "R²: 0.9814\n",
      "RMSE: 301,000.52\n"
     ]
    }
   ],
   "execution_count": 18
  },
  {
   "metadata": {},
   "cell_type": "markdown",
   "source": "## Сохраняем модель",
   "id": "a9d5772f9e66d252"
  },
  {
   "metadata": {
    "ExecuteTime": {
     "end_time": "2025-10-24T20:42:56.591394Z",
     "start_time": "2025-10-24T20:42:56.575936Z"
    }
   },
   "cell_type": "code",
   "source": [
    "import joblib\n",
    "\n",
    "joblib.dump(final_model, \"final_model_ivan.pkl\")"
   ],
   "id": "cb874724d30d5308",
   "outputs": [
    {
     "data": {
      "text/plain": [
       "['final_model_ivan.pkl']"
      ]
     },
     "execution_count": 19,
     "metadata": {},
     "output_type": "execute_result"
    }
   ],
   "execution_count": 19
  },
  {
   "metadata": {},
   "cell_type": "markdown",
   "source": "## Считываем файл с тестовыми данными, при необходимости загружаем модель (если программа запускается заново)",
   "id": "215302497779fb52"
  },
  {
   "metadata": {
    "ExecuteTime": {
     "end_time": "2025-10-24T20:43:02.773040Z",
     "start_time": "2025-10-24T20:43:02.741665Z"
    }
   },
   "cell_type": "code",
   "source": [
    "df_test = pd.read_csv(\"diamonds_test.csv\")\n",
    "\n",
    "# final_model = joblib.load(\"final_model.pkl\")"
   ],
   "id": "e7f90e79ab157d4b",
   "outputs": [],
   "execution_count": 20
  },
  {
   "metadata": {},
   "cell_type": "markdown",
   "source": "## Выводим первые 5 строк датасета",
   "id": "f6cb0dc84ae8d308"
  },
  {
   "metadata": {
    "ExecuteTime": {
     "end_time": "2025-10-24T20:43:07.135423Z",
     "start_time": "2025-10-24T20:43:07.119955Z"
    }
   },
   "cell_type": "code",
   "source": [
    "print(\"diamonds_test.csv\")\n",
    "df_test.head()"
   ],
   "id": "41fd872d9874e3e5",
   "outputs": [
    {
     "name": "stdout",
     "output_type": "stream",
     "text": [
      "diamonds_test.csv\n"
     ]
    },
    {
     "data": {
      "text/plain": [
       "   id  carat        cut color clarity  depth  table     x     y     z\n",
       "0   0   1.02       Good     F     SI2   59.2   58.0  6.51  6.56  3.87\n",
       "1   1   0.70  Very Good     I    VVS1   59.5   58.0  5.78  5.81  3.45\n",
       "2   2   0.32  Very Good     H    VVS2   63.4   56.0  4.37  4.34  2.76\n",
       "3   3   0.42      Ideal     F    VVS2   62.2   56.0  4.79  4.82  2.99\n",
       "4   4   0.40      Ideal     F     VS2   62.3   54.0  4.74  4.77  2.96"
      ],
      "text/html": [
       "<div>\n",
       "<style scoped>\n",
       "    .dataframe tbody tr th:only-of-type {\n",
       "        vertical-align: middle;\n",
       "    }\n",
       "\n",
       "    .dataframe tbody tr th {\n",
       "        vertical-align: top;\n",
       "    }\n",
       "\n",
       "    .dataframe thead th {\n",
       "        text-align: right;\n",
       "    }\n",
       "</style>\n",
       "<table border=\"1\" class=\"dataframe\">\n",
       "  <thead>\n",
       "    <tr style=\"text-align: right;\">\n",
       "      <th></th>\n",
       "      <th>id</th>\n",
       "      <th>carat</th>\n",
       "      <th>cut</th>\n",
       "      <th>color</th>\n",
       "      <th>clarity</th>\n",
       "      <th>depth</th>\n",
       "      <th>table</th>\n",
       "      <th>x</th>\n",
       "      <th>y</th>\n",
       "      <th>z</th>\n",
       "    </tr>\n",
       "  </thead>\n",
       "  <tbody>\n",
       "    <tr>\n",
       "      <th>0</th>\n",
       "      <td>0</td>\n",
       "      <td>1.02</td>\n",
       "      <td>Good</td>\n",
       "      <td>F</td>\n",
       "      <td>SI2</td>\n",
       "      <td>59.2</td>\n",
       "      <td>58.0</td>\n",
       "      <td>6.51</td>\n",
       "      <td>6.56</td>\n",
       "      <td>3.87</td>\n",
       "    </tr>\n",
       "    <tr>\n",
       "      <th>1</th>\n",
       "      <td>1</td>\n",
       "      <td>0.70</td>\n",
       "      <td>Very Good</td>\n",
       "      <td>I</td>\n",
       "      <td>VVS1</td>\n",
       "      <td>59.5</td>\n",
       "      <td>58.0</td>\n",
       "      <td>5.78</td>\n",
       "      <td>5.81</td>\n",
       "      <td>3.45</td>\n",
       "    </tr>\n",
       "    <tr>\n",
       "      <th>2</th>\n",
       "      <td>2</td>\n",
       "      <td>0.32</td>\n",
       "      <td>Very Good</td>\n",
       "      <td>H</td>\n",
       "      <td>VVS2</td>\n",
       "      <td>63.4</td>\n",
       "      <td>56.0</td>\n",
       "      <td>4.37</td>\n",
       "      <td>4.34</td>\n",
       "      <td>2.76</td>\n",
       "    </tr>\n",
       "    <tr>\n",
       "      <th>3</th>\n",
       "      <td>3</td>\n",
       "      <td>0.42</td>\n",
       "      <td>Ideal</td>\n",
       "      <td>F</td>\n",
       "      <td>VVS2</td>\n",
       "      <td>62.2</td>\n",
       "      <td>56.0</td>\n",
       "      <td>4.79</td>\n",
       "      <td>4.82</td>\n",
       "      <td>2.99</td>\n",
       "    </tr>\n",
       "    <tr>\n",
       "      <th>4</th>\n",
       "      <td>4</td>\n",
       "      <td>0.40</td>\n",
       "      <td>Ideal</td>\n",
       "      <td>F</td>\n",
       "      <td>VS2</td>\n",
       "      <td>62.3</td>\n",
       "      <td>54.0</td>\n",
       "      <td>4.74</td>\n",
       "      <td>4.77</td>\n",
       "      <td>2.96</td>\n",
       "    </tr>\n",
       "  </tbody>\n",
       "</table>\n",
       "</div>"
      ]
     },
     "execution_count": 21,
     "metadata": {},
     "output_type": "execute_result"
    }
   ],
   "execution_count": 21
  },
  {
   "metadata": {},
   "cell_type": "markdown",
   "source": "## Выводим информацию о тестовом наборе данных",
   "id": "4e4dd9f77ec9d93f"
  },
  {
   "metadata": {
    "ExecuteTime": {
     "end_time": "2025-10-24T20:43:08.692289Z",
     "start_time": "2025-10-24T20:43:08.674754Z"
    }
   },
   "cell_type": "code",
   "source": [
    "print(\"Информация о датасете: \")\n",
    "df.info()"
   ],
   "id": "ee500c85020b5309",
   "outputs": [
    {
     "name": "stdout",
     "output_type": "stream",
     "text": [
      "Информация о датасете: \n",
      "<class 'pandas.core.frame.DataFrame'>\n",
      "RangeIndex: 43018 entries, 0 to 43017\n",
      "Data columns (total 10 columns):\n",
      " #   Column   Non-Null Count  Dtype  \n",
      "---  ------   --------------  -----  \n",
      " 0   carat    43018 non-null  float64\n",
      " 1   cut      43018 non-null  object \n",
      " 2   color    43018 non-null  object \n",
      " 3   clarity  43018 non-null  object \n",
      " 4   depth    43018 non-null  float64\n",
      " 5   table    43018 non-null  float64\n",
      " 6   price    43018 non-null  int64  \n",
      " 7   x        43018 non-null  float64\n",
      " 8   y        43018 non-null  float64\n",
      " 9   z        43018 non-null  float64\n",
      "dtypes: float64(6), int64(1), object(3)\n",
      "memory usage: 3.3+ MB\n"
     ]
    }
   ],
   "execution_count": 22
  },
  {
   "metadata": {},
   "cell_type": "markdown",
   "source": "## Делаем проверку отсутствующих значений в датасете",
   "id": "1f13f083648afd05"
  },
  {
   "metadata": {
    "ExecuteTime": {
     "end_time": "2025-10-24T20:43:09.723824Z",
     "start_time": "2025-10-24T20:43:09.708214Z"
    }
   },
   "cell_type": "code",
   "source": [
    "print(\"Проверка на отсутствующие значения: \")\n",
    "df.isnull().sum()"
   ],
   "id": "9f335ffadae0ded4",
   "outputs": [
    {
     "name": "stdout",
     "output_type": "stream",
     "text": [
      "Проверка на отсутствующие значения: \n"
     ]
    },
    {
     "data": {
      "text/plain": [
       "carat      0\n",
       "cut        0\n",
       "color      0\n",
       "clarity    0\n",
       "depth      0\n",
       "table      0\n",
       "price      0\n",
       "x          0\n",
       "y          0\n",
       "z          0\n",
       "dtype: int64"
      ]
     },
     "execution_count": 23,
     "metadata": {},
     "output_type": "execute_result"
    }
   ],
   "execution_count": 23
  },
  {
   "metadata": {},
   "cell_type": "markdown",
   "source": "## Выбираем нужные колонки для предсказания",
   "id": "2f95b6ef2ffe40a7"
  },
  {
   "metadata": {
    "ExecuteTime": {
     "end_time": "2025-10-24T20:43:10.496817Z",
     "start_time": "2025-10-24T20:43:10.469090Z"
    }
   },
   "cell_type": "code",
   "source": "df_test_features = df_test[x.columns]",
   "id": "30bc5e5dffd36b72",
   "outputs": [],
   "execution_count": 24
  },
  {
   "metadata": {},
   "cell_type": "markdown",
   "source": "## Делаем финальное предсказание",
   "id": "aa8def34a80a257a"
  },
  {
   "metadata": {
    "ExecuteTime": {
     "end_time": "2025-10-24T20:43:11.515133Z",
     "start_time": "2025-10-24T20:43:11.481271Z"
    }
   },
   "cell_type": "code",
   "source": [
    "y_submission = final_model.predict(df_test_features)\n",
    "\n",
    "submission = pd.DataFrame({\n",
    "        \"id\": df_test[\"id\"],\n",
    "        \"price\": y_submission\n",
    "    })"
   ],
   "id": "a306c7b86d926714",
   "outputs": [],
   "execution_count": 25
  },
  {
   "metadata": {},
   "cell_type": "markdown",
   "source": "## Сохраняем финальное предсказание в файл submission.csv",
   "id": "2b103d4cacee503c"
  },
  {
   "metadata": {
    "ExecuteTime": {
     "end_time": "2025-10-24T20:43:16.655840Z",
     "start_time": "2025-10-24T20:43:16.627204Z"
    }
   },
   "cell_type": "code",
   "source": [
    "submission.to_csv(\"submission_ivab.csv\", index=False)\n",
    "print(\"Сохранение submission.csv\")"
   ],
   "id": "378f8fe8513ed2b9",
   "outputs": [
    {
     "name": "stdout",
     "output_type": "stream",
     "text": [
      "Сохранение submission.csv\n"
     ]
    }
   ],
   "execution_count": 26
  },
  {
   "metadata": {},
   "cell_type": "code",
   "outputs": [],
   "execution_count": null,
   "source": "",
   "id": "8eb26fa1b36f1bea"
  }
 ],
 "metadata": {
  "kernelspec": {
   "display_name": "Python 3",
   "language": "python",
   "name": "python3"
  },
  "language_info": {
   "codemirror_mode": {
    "name": "ipython",
    "version": 2
   },
   "file_extension": ".py",
   "mimetype": "text/x-python",
   "name": "python",
   "nbconvert_exporter": "python",
   "pygments_lexer": "ipython2",
   "version": "2.7.6"
  }
 },
 "nbformat": 4,
 "nbformat_minor": 5
}
